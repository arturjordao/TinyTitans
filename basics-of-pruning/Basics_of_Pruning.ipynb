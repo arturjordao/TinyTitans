{
  "nbformat": 4,
  "nbformat_minor": 0,
  "metadata": {
    "colab": {
      "provenance": []
    },
    "kernelspec": {
      "name": "python3",
      "display_name": "Python 3"
    },
    "language_info": {
      "name": "python"
    }
  },
  "cells": [
    {
      "cell_type": "markdown",
      "source": [
        "# Pruning Basics — Dense vs Zeroed-Out vs Structured (Step by Step)\n",
        "\n",
        "This notebook refers to section **“Technical Details behind Pruning”**.  \n",
        "Its main goals are to show why:\n",
        "\n",
        "- Setting weights to zero (unstructured pruning *without* removal) **does not speed up** matrix multiplication on a regular CPU.\n",
        "- Removing entire structures (structured pruning) **does** reduce compute and latency, because the **shapes actually shrink**.\n",
        "- Gains from zeros require **sparse-aware kernels** or specialized backends.\n",
        "\n",
        "**Audience:** beginners (no prior ML code required).  \n",
        "**You’ll learn:** how matrix shape vs. zeros impacts runtime; what “structured vs. unstructured” means in practice.\n"
      ],
      "metadata": {
        "id": "KaWZBOVfR9zF"
      }
    },
    {
      "cell_type": "markdown",
      "source": [
        "## 0) How to use this notebook\n",
        "\n",
        "- Keep the **default parameters** for a quick live demo.  \n",
        "- If you increase matrix sizes (e.g., `1024`), the effect is more visible but takes longer.  \n",
        "- Each experiment prints both the **shape** and the **time** so the audience sees *what changed* and *what did not*.\n",
        "\n",
        "**Recommended defaults for live talk**  \n",
        "- Shapes: `m=k=n=512` or `2048`.  \n",
        "- Sparsity: `0.95` (zeros for the “zeroed‑out” demo).  \n",
        "- Repetitions (`reps`): `50` (stabilizes timing).  \n",
        "- Keep ratio (`keep_ratio`): `0.50` (structured pruning removes ~50% inner dimension)."
      ],
      "metadata": {
        "id": "SLMODEFDSDMZ"
      }
    },
    {
      "cell_type": "code",
      "source": [
        "import numpy as np, time\n",
        "\n",
        "# Reproducibility\n",
        "np.random.seed(42)\n",
        "\n",
        "# --- Demo parameters (safe defaults) ---\n",
        "m, k, n = 2048, 2048, 2048    # matrix sizes for A (m x k) and B (k x n)\n",
        "sparsity = 0.95               # 95% of elements set to zero in the \"zeroed-out\" experiment\n",
        "reps = 50                     # loop repetitions to amplify the timing effect on CPU\n",
        "keep_ratio = 0.50             # 50% columns/rows kept for structured pruning\n",
        "\n",
        "dtype = np.float32            # use float32 to keep memory and time reasonable\n",
        "\n",
        "print(f\"Parameters -> m={m}, k={k}, n={n}, sparsity={sparsity}, reps={reps}, keep_ratio={keep_ratio}, dtype={dtype}\")"
      ],
      "metadata": {
        "colab": {
          "base_uri": "https://localhost:8080/"
        },
        "id": "zdb_pmE2SD7q",
        "outputId": "80b9315c-5e5a-4435-b84e-d635c3c30929"
      },
      "execution_count": 1,
      "outputs": [
        {
          "output_type": "stream",
          "name": "stdout",
          "text": [
            "Parameters -> m=2048, k=2048, n=2048, sparsity=0.95, reps=50, keep_ratio=0.5, dtype=<class 'numpy.float32'>\n"
          ]
        }
      ]
    },
    {
      "cell_type": "markdown",
      "source": [
        "## 1) Helper: tiny timing wrapper\n",
        "We use a very small wrapper so timing printouts are consistent (same function across experiments)."
      ],
      "metadata": {
        "id": "Xs3sF1VBSVsl"
      }
    },
    {
      "cell_type": "code",
      "source": [
        "def time_matmul(A: np.ndarray, B: np.ndarray, repeat: int = 50):\n",
        "    \"\"\"Time A @ B using a naive loop to repeat the same op many times.\n",
        "    Returns the SUM of times (s) and the resulting shape.\n",
        "    \"\"\"\n",
        "    times = []\n",
        "    for _ in range(repeat):\n",
        "        C = None\n",
        "        t0 = time.perf_counter()\n",
        "        C = A @ B\n",
        "        t1 = time.perf_counter()\n",
        "        times.append(t1 - t0)\n",
        "    return np.sum(times), C.shape"
      ],
      "metadata": {
        "id": "KjiJm6vkSW1m"
      },
      "execution_count": 2,
      "outputs": []
    },
    {
      "cell_type": "markdown",
      "source": [
        "## 2) Experiment 1 — **Dense baseline** (no pruning)\n",
        "\n",
        "**Goal:** establish a baseline with standard dense matrices.  \n",
        "- We create `A` and `B` with random numbers.  \n",
        "- We multiply once, then repeat the multiplication `reps` times to see a stable timing.  \n",
        "- Shapes do **not** change.\n"
      ],
      "metadata": {
        "id": "O15fsbLOSdPe"
      }
    },
    {
      "cell_type": "code",
      "source": [
        "# Dense baseline (no zeros)\n",
        "A_dense = np.random.rand(m, k).astype(dtype)\n",
        "B_dense = np.random.rand(k, n).astype(dtype)"
      ],
      "metadata": {
        "id": "Uj5lAGhS1oYD"
      },
      "execution_count": 3,
      "outputs": []
    },
    {
      "cell_type": "code",
      "source": [
        "t_dense, shapeC = time_matmul(A_dense, B_dense, repeat=50)\n",
        "print(f\"[Dense] Total over 50 runs -> time: {t_dense:.4f}s | C.shape = {shapeC}\")"
      ],
      "metadata": {
        "colab": {
          "base_uri": "https://localhost:8080/"
        },
        "id": "At3TsYAASaMh",
        "outputId": "6ca58897-7db0-425c-8381-4f7b1bc79ee9"
      },
      "execution_count": 4,
      "outputs": [
        {
          "output_type": "stream",
          "name": "stdout",
          "text": [
            "[Dense] Total over 50 runs -> time: 9.7691s | C.shape = (2048, 2048)\n"
          ]
        }
      ]
    },
    {
      "cell_type": "markdown",
      "source": [
        "## 3) Experiment 2 — **Zeroed-out / Unstructured pruning** (no removal)\n",
        "\n",
        "**Goal:** simulate unstructured pruning by setting many elements to zero, **without** shrinking shapes.\n",
        "\n",
        "**Key point:** on a CPU, standard dense BLAS still treats these arrays as **dense**.  \n",
        "Even with 80–95% zeros, you still compute `A(m×k) @ B(k×n)` touching similar memory layouts.  \n",
        "**Result:** timing is often very close to the dense baseline.\n",
        "\n",
        "We also print the **effective sparsity** (how many zeros you actually got)."
      ],
      "metadata": {
        "id": "7HBttj4HSqfw"
      }
    },
    {
      "cell_type": "code",
      "source": [
        "# Create random masks to \"prune\" elements to zero (unstructured)\n",
        "maskA = (np.random.rand(m, k) > sparsity).astype(dtype)   # True (~1.0) where we keep values\n",
        "maskB = (np.random.rand(k, n) > sparsity).astype(dtype)\n",
        "\n",
        "A_zeroed = A_dense * maskA\n",
        "B_zeroed = B_dense * maskB\n",
        "\n",
        "eff_sparsity_A = 1.0 - (np.count_nonzero(A_zeroed) / A_zeroed.size)\n",
        "eff_sparsity_B = 1.0 - (np.count_nonzero(B_zeroed) / B_zeroed.size)\n",
        "\n",
        "print(f\"Effective sparsity -> A: {eff_sparsity_A:.2%} | B: {eff_sparsity_B:.2%}\")\n",
        "print(f\"Shapes -> A_zeroed: {A_zeroed.shape} | B_zeroed: {B_zeroed.shape}\")\n",
        "\n",
        "# Zeroed-out baseline (50 runs, total time)\n",
        "t_zero, shapeCz = time_matmul(A_zeroed, B_zeroed, repeat=50)\n",
        "print(f\"[Zeroed-out] Total over 50 runs -> time: {t_zero:.4f}s | Cz.shape = {shapeCz}\")"
      ],
      "metadata": {
        "colab": {
          "base_uri": "https://localhost:8080/"
        },
        "id": "NC8SKKX6SrHH",
        "outputId": "64880cf0-08d2-47e6-aecb-c347bac4cebe"
      },
      "execution_count": 5,
      "outputs": [
        {
          "output_type": "stream",
          "name": "stdout",
          "text": [
            "Effective sparsity -> A: 95.01% | B: 95.01%\n",
            "Shapes -> A_zeroed: (2048, 2048) | B_zeroed: (2048, 2048)\n",
            "[Zeroed-out] Total over 50 runs -> time: 10.0349s | Cz.shape = (2048, 2048)\n"
          ]
        }
      ]
    },
    {
      "cell_type": "markdown",
      "source": [
        "**Takeaway:**  \n",
        "- The arrays have **the same shapes** as the dense baseline, so the BLAS kernel still runs a dense GEMM.  \n",
        "- Zeros do not magically remove work on CPU.  \n",
        "- Real speedups from unstructured sparsity need **sparse kernels** or a backend that understands this layout (GPU vendor libs, or frameworks with sparse ops).  \n",
        "- For teaching: *“Zeros alone do not help the CPU; you need removal or sparse-aware kernels.”*\n"
      ],
      "metadata": {
        "id": "G46wAVLNS5tx"
      }
    },
    {
      "cell_type": "markdown",
      "source": [
        "## 4) Experiment 3 — **Structured pruning** (actual removal)\n",
        "\n",
        "**Goal:** remove entire columns in `A` and the matching rows in `B`.  \n",
        "This reduces the inner dimension from `k` to `k_reduced = int(k * keep_ratio)`.\n",
        "\n",
        "**Why this matters:** the **shape shrinks**, so the math cost goes down.  \n",
        "You should see **lower time** compared to the dense baseline.\n"
      ],
      "metadata": {
        "id": "kesWHf7SS_Kk"
      }
    },
    {
      "cell_type": "code",
      "source": [
        "# Pick a subset of columns/rows to keep (structured pruning)\n",
        "k_reduced = int(k * keep_ratio)\n",
        "idx_keep = np.random.choice(k, size=k_reduced, replace=False)\n",
        "idx_keep.sort()\n",
        "\n",
        "A_struct = A_dense[:, idx_keep]    # (m, k_reduced)\n",
        "B_struct = B_dense[idx_keep, :]    # (k_reduced, n)\n",
        "\n",
        "print(f\"Shapes -> A_struct: {A_struct.shape} | B_struct: {B_struct.shape}\")\n",
        "\n",
        "# Structured baseline (50 runs, total time)\n",
        "t_struct, shapeCs = time_matmul(A_struct, B_struct, repeat=50)\n",
        "print(f\"[Structured] Total over 50 runs -> time: {t_struct:.4f}s | Cs.shape = {shapeCs}\")\n",
        "\n",
        "# Theoretical compute drop (very rough): proportional to inner dimension\n",
        "print(f\"Approximate compute drop vs dense baseline: k_reduced/k = {k_reduced/k:.2f} (~{100*(1-k_reduced/k):.0f}% fewer MACs on the inner dimension)\")"
      ],
      "metadata": {
        "colab": {
          "base_uri": "https://localhost:8080/"
        },
        "id": "tANPHMx6S6no",
        "outputId": "3da8598a-a7de-4b09-ee11-3db749352568"
      },
      "execution_count": 6,
      "outputs": [
        {
          "output_type": "stream",
          "name": "stdout",
          "text": [
            "Shapes -> A_struct: (2048, 1024) | B_struct: (1024, 2048)\n",
            "[Structured] Total over 50 runs -> time: 5.3923s | Cs.shape = (2048, 2048)\n",
            "Approximate compute drop vs dense baseline: k_reduced/k = 0.50 (~50% fewer MACs on the inner dimension)\n"
          ]
        }
      ]
    },
    {
      "cell_type": "markdown",
      "source": [
        "## 5) Experiment 4 — Sparse acceleration (with SciPy)\n",
        "\n",
        "**Goal:** show that when we use a *sparse-aware* library, zeros finally help.  \n",
        "- Convert the zeroed-out matrices into CSR format (`csr_matrix`).  \n",
        "- Multiply them and compare time with the dense version.  \n",
        "- Key idea: “Zeros alone don’t help in NumPy, but sparse libraries can exploit them.”"
      ],
      "metadata": {
        "id": "2_u8F5mmTFEb"
      }
    },
    {
      "cell_type": "code",
      "source": [
        "from scipy.sparse import csr_matrix\n",
        "\n",
        "# Build CSR once from the existing zeroed-out matrices (conversion OUTSIDE timers)\n",
        "A_csr = csr_matrix(A_zeroed)\n",
        "B_csr = csr_matrix(B_zeroed)\n",
        "\n",
        "# Sparse (CSR @ CSR) — 50 runs, total time (same function as others)\n",
        "t_sparse_csr, _ = time_matmul(A_csr, B_csr, repeat=50)\n",
        "print(f\"[Sparse (CSR@CSR)] Total over 50 runs -> time: {t_sparse_csr:.4f}s\")"
      ],
      "metadata": {
        "colab": {
          "base_uri": "https://localhost:8080/"
        },
        "id": "Kr0J41KRTGoX",
        "outputId": "89aa6d87-658d-4876-d988-10f77af5ed41"
      },
      "execution_count": 7,
      "outputs": [
        {
          "output_type": "stream",
          "name": "stdout",
          "text": [
            "[Sparse (CSR@CSR)] Total over 50 runs -> time: 7.7801s\n"
          ]
        }
      ]
    },
    {
      "cell_type": "markdown",
      "source": [
        "## 6) Timing comparison charts\n",
        "\n",
        "Let's generate **visual comparisons** of execution time with two bar charts:\n",
        "1) **Single multiply**, and  \n",
        "2) **Loop × `reps`** (repeated multiplies for a more stable timing).\n",
        "\n",
        "In both charts, the **dashed horizontal line** represents the **Dense baseline** (reference).  \n",
        "The **bars** show the variants:\n",
        "- **Zeroed-out** (same shapes, many zeros),\n",
        "- **Structured** (reduced inner dimension),\n",
        "- **Sparse (CSR)** — shown only if SciPy timings were collected.\n",
        "\n",
        "**What to look for**\n",
        "- **Zeroed-out ≈ Dense**: bars should be close to the line (no real CPU speedup).\n",
        "- **Structured < Dense**: bars should drop below the line (fewer FLOPs → faster).\n",
        "- **Sparse (CSR)** may be **< Dense** when sparsity is high and/or with CSR @ dense products.\n",
        "\n",
        "**Axes & scale**\n",
        "- **Y-axis:** time in seconds (auto-scaled with a small headroom to improve readability).\n",
        "- **X-axis:** method variants for the chosen scenario (Single or Loop).\n",
        "\n",
        "> **Run order reminder:** execute Experiments 1–3 (and 4 if applicable) **before** plotting, so all timing variables are defined.\n"
      ],
      "metadata": {
        "id": "2cJkRoSiTdu9"
      }
    },
    {
      "cell_type": "code",
      "source": [
        "import matplotlib.pyplot as plt\n",
        "\n",
        "# Chart: Total over 50 runs — bars vs Dense baseline line\n",
        "labels = [\"Zeroed-out\", \"Structured\", \"Sparse (CSR)\"]\n",
        "values = [t_zero, t_struct, t_sparse_csr]\n",
        "\n",
        "ymax = max(values + [t_dense]) * 1.25\n",
        "\n",
        "plt.figure(figsize=(9,5))\n",
        "plt.bar(labels, values)\n",
        "\n",
        "# Add horizontal line for Dense baseline\n",
        "plt.axhline(y=t_dense, linestyle=\"--\", color=\"red\", label=f\"Dense baseline: {t_dense:.4f}s\")\n",
        "\n",
        "plt.ylim(0, ymax)\n",
        "plt.ylabel(\"Total time (seconds) over 50 runs\")\n",
        "plt.title(\"Comparison of multiplication times — Total over 50 runs\")\n",
        "plt.xticks(rotation=12)\n",
        "\n",
        "# Add value labels on top of bars\n",
        "for i, v in enumerate(values):\n",
        "    plt.text(i, v, f\"{v:.4f}s\", ha=\"center\", va=\"bottom\")\n",
        "\n",
        "plt.legend()\n",
        "plt.tight_layout()\n",
        "plt.show()\n"
      ],
      "metadata": {
        "colab": {
          "base_uri": "https://localhost:8080/",
          "height": 507
        },
        "id": "kU25cYvETnf6",
        "outputId": "26f597bf-519a-4fea-a92f-86238094fe48"
      },
      "execution_count": 8,
      "outputs": [
        {
          "output_type": "display_data",
          "data": {
            "text/plain": [
              "<Figure size 900x500 with 1 Axes>"
            ],
            "image/png": "[encoded data removed]"
          },
          "metadata": {}
        }
      ]
    },
    {
      "cell_type": "markdown",
      "source": [
        "## 7) Key takeaways\n",
        "\n",
        "- **Unstructured pruning with zeros:** shapes stay the same → dense kernels do the same amount of work on CPU → **no real speedup**.  \n",
        "- **Structured pruning:** removes columns/rows/filters/layers → **shapes shrink** → fewer FLOPs and **lower latency** even on CPU.  \n",
        "- **Sparse acceleration:** to benefit from zeros alone, you need **sparse-aware** libraries or specialized hardware.\n",
        "\n",
        "> *“Zeroing values does not change the math; removing structures does.”*"
      ],
      "metadata": {
        "id": "TINEYzTgTzKq"
      }
    },
    {
      "cell_type": "markdown",
      "source": [
        "---\n",
        "\n",
        "$$\\Huge \\textbf{Part 2}$$\n",
        "\n",
        "---\n"
      ],
      "metadata": {
        "id": "x4nEpu3KeAGZ"
      }
    },
    {
      "cell_type": "markdown",
      "source": [
        "# Criteria for Selecting Structures — Hands-on (L1/L2/Geometric Mean)\n",
        "\n",
        "This mini-lab shows **how to pick what to prune** in a neural network using **magnitude-based criteria**.\n",
        "We will:\n",
        "- create a tiny synthetic Conv layer,\n",
        "- compute **per-filter** and **per-channel** scores (L1/L2/Geometric Mean of |W|),\n",
        "- **rank** and **prune** the lowest p%,\n",
        "- check **shapes** and a simple **FLOPs proxy** for expected speedup.\n",
        "\n",
        "> Focus: **structured pruning** (filters/channels). After pruning, we typically do a short **fine-tune** (not run live)."
      ],
      "metadata": {
        "id": "T6nNxzr_eAb2"
      }
    },
    {
      "cell_type": "markdown",
      "source": [
        "## Parameters — quick guide\n",
        "\n",
        "We’ll simulate a tiny Conv layer and use simple **magnitude criteria** (L1/L2/Geomean) to decide **what to prune**.\n",
        "\n",
        "**What these knobs do**\n",
        "- `NUM_FILTERS` → number of **output filters** (more = larger layer).\n",
        "- `IN_CHANNELS` → number of **input channels** (e.g., RGB = 3).\n",
        "- `KERNEL_H, KERNEL_W` → filter size (3×3 by default).\n",
        "- `PRUNE_FRAC` → fraction of **filters** to remove (by the chosen criterion).\n",
        "- `PRUNE_FRAC_CHANNEL` → fraction of **input channels per filter** to remove.\n",
        "\n",
        "**How to run**\n",
        "1) Keep defaults for a fast demo.  \n",
        "2) Run top→down: create weights → compute scores → **rank** → **prune** → check shapes/FLOPs proxy.  \n",
        "3) Interpretation: **smaller scores ⇒ prune first**; **structured pruning** (filters/channels) reduces shapes ⇒ expected speedup."
      ],
      "metadata": {
        "id": "IloMpjaleJT1"
      }
    },
    {
      "cell_type": "code",
      "source": [
        "import numpy as np, time\n",
        "import pandas as pd\n",
        "import matplotlib.pyplot as plt\n",
        "\n",
        "np.random.seed(0)\n",
        "\n",
        "NUM_FILTERS = 8\n",
        "IN_CHANNELS = 3\n",
        "KERNEL_H, KERNEL_W = 3, 3\n",
        "\n",
        "PRUNE_FRAC = 0.25\n",
        "PRUNE_FRAC_CHANNEL = 0.25\n",
        "\n",
        "dtype = np.float32\n",
        "\n",
        "print(\"[OK] Params loaded:\",\n",
        "      f\"filters={NUM_FILTERS}, in_channels={IN_CHANNELS}, kernel={KERNEL_H}x{KERNEL_W},\",\n",
        "      f\"prune_f={PRUNE_FRAC:.0%}, prune_fc={PRUNE_FRAC_CHANNEL:.0%}\")"
      ],
      "metadata": {
        "colab": {
          "base_uri": "https://localhost:8080/"
        },
        "id": "YTJb0cXgeMD-",
        "outputId": "26a90d5b-641c-403c-a61f-9f354ef9c77b"
      },
      "execution_count": null,
      "outputs": [
        {
          "output_type": "stream",
          "name": "stdout",
          "text": [
            "[OK] Params loaded: filters=8, in_channels=3, kernel=3x3, prune_f=25%, prune_fc=25%\n"
          ]
        }
      ]
    },
    {
      "cell_type": "markdown",
      "source": [
        "## 1) Synthetic Conv weights\n",
        "\n",
        "We create a small Conv weight tensor with shape `(out_filters, in_channels, kh, kw)`.  \n",
        "This lets us compute **per-filter** and **per-channel** importance scores."
      ],
      "metadata": {
        "id": "zgMkwq_fePwx"
      }
    },
    {
      "cell_type": "code",
      "source": [
        "F, Cin = NUM_FILTERS, IN_CHANNELS\n",
        "Kh, Kw = KERNEL_H, KERNEL_W\n",
        "\n",
        "# Random toy weights (no training; just for scoring demos)\n",
        "W = (0.2 * np.random.randn(F, Cin, Kh, Kw)).astype(dtype)\n",
        "\n",
        "print(\"W shape:\", W.shape)\n",
        "print(\"Example kernel W[0,0]:\\n\", W[0,0])"
      ],
      "metadata": {
        "colab": {
          "base_uri": "https://localhost:8080/"
        },
        "id": "VLunzDzTecmK",
        "outputId": "b3c1226c-58ff-4abe-eb52-f0a2f426159c"
      },
      "execution_count": null,
      "outputs": [
        {
          "output_type": "stream",
          "name": "stdout",
          "text": [
            "W shape: (8, 3, 3, 3)\n",
            "Example kernel W[0,0]:\n",
            " [[ 0.35281047  0.08003144  0.1957476 ]\n",
            " [ 0.44817865  0.3735116  -0.19545558]\n",
            " [ 0.19001769 -0.03027144 -0.02064377]]\n"
          ]
        }
      ]
    },
    {
      "cell_type": "markdown",
      "source": [
        "## 2) Criteria (magnitude-based)\n",
        "\n",
        "We’ll score magnitude per structure:\n",
        "- **L1** = sum(|W|)  \n",
        "- **L2** = sqrt(sum(W²))  \n",
        "- **Geometric mean of |W|** = exp(mean(log(|W|+eps)))\n",
        "\n",
        "Interpretation: **smaller score ⇒ less important ⇒ prune first**."
      ],
      "metadata": {
        "id": "eLGc3A3xehuP"
      }
    },
    {
      "cell_type": "code",
      "source": [
        "def l1_score(arr: np.ndarray) -> float:\n",
        "    return float(np.linalg.norm(arr, ord=1))          # L1\n",
        "\n",
        "def l2_score(arr: np.ndarray) -> float:\n",
        "    return float(np.linalg.norm(arr))                 # L2 (ord=2 default)\n",
        "\n",
        "def gmean_abs(arr: np.ndarray, eps: float = 1e-8) -> float:\n",
        "    a = np.abs(arr) + eps\n",
        "    return float(np.exp(np.log(a).mean()))            # geomean(|w|)"
      ],
      "metadata": {
        "id": "puQRdx28etCb"
      },
      "execution_count": null,
      "outputs": []
    },
    {
      "cell_type": "markdown",
      "source": [
        "## 3) Per-filter scores (structured pruning at filter level)\n",
        "\n",
        "Compute one score per **output filter** (collapse all other axes).  \n",
        "We’ll tabulate **L1/L2/Geomean** and sort by **L1** (baseline choice)."
      ],
      "metadata": {
        "id": "Fm4Y5RleesP4"
      }
    },
    {
      "cell_type": "code",
      "source": [
        "Wf = W.reshape(F, -1)\n",
        "\n",
        "scores_filter = pd.DataFrame({\n",
        "    \"filter\": np.arange(F),\n",
        "    \"L1\": [l1_score(Wf[i]) for i in range(F)],\n",
        "    \"L2\": [l2_score(Wf[i]) for i in range(F)],\n",
        "    \"GeometricMeanAbs\": [gmean_abs(Wf[i]) for i in range(F)],\n",
        "}).sort_values(\"L1\", ascending=True).reset_index(drop=True)\n",
        "\n",
        "print(\"Filters sorted by L1 (ascending) — candidates to prune on top:\")\n",
        "scores_filter"
      ],
      "metadata": {
        "colab": {
          "base_uri": "https://localhost:8080/",
          "height": 318
        },
        "id": "Hda3w5crey9W",
        "outputId": "3bf80003-7704-45b2-90df-1897bd677790"
      },
      "execution_count": null,
      "outputs": [
        {
          "output_type": "stream",
          "name": "stdout",
          "text": [
            "Filters sorted by L1 (ascending) — candidates to prune on top:\n"
          ]
        },
        {
          "output_type": "execute_result",
          "data": {
            "text/plain": [
              "   filter        L1        L2  GeometricMeanAbs\n",
              "0       2  3.265481  0.786908          0.079999\n",
              "1       7  3.939165  0.934826          0.098799\n",
              "2       6  4.461070  1.001864          0.118668\n",
              "3       4  4.523472  1.041675          0.124894\n",
              "4       5  4.630366  1.061562          0.130265\n",
              "5       1  4.824330  1.104231          0.136262\n",
              "6       0  4.910399  1.207496          0.118037\n",
              "7       3  5.143628  1.154568          0.134698"
            ],
            "text/html": [
              "\n",
              "  <div id=\"df-7b011c7d-1189-4f06-9f90-5de967ca88f4\" class=\"colab-df-container\">\n",
              "    <div>\n",
              "<style scoped>\n",
              "    .dataframe tbody tr th:only-of-type {\n",
              "        vertical-align: middle;\n",
              "    }\n",
              "\n",
              "    .dataframe tbody tr th {\n",
              "        vertical-align: top;\n",
              "    }\n",
              "\n",
              "    .dataframe thead th {\n",
              "        text-align: right;\n",
              "    }\n",
              "</style>\n",
              "<table border=\"1\" class=\"dataframe\">\n",
              "  <thead>\n",
              "    <tr style=\"text-align: right;\">\n",
              "      <th></th>\n",
              "      <th>filter</th>\n",
              "      <th>L1</th>\n",
              "      <th>L2</th>\n",
              "      <th>GeometricMeanAbs</th>\n",
              "    </tr>\n",
              "  </thead>\n",
              "  <tbody>\n",
              "    <tr>\n",
              "      <th>0</th>\n",
              "      <td>2</td>\n",
              "      <td>3.265481</td>\n",
              "      <td>0.786908</td>\n",
              "      <td>0.079999</td>\n",
              "    </tr>\n",
              "    <tr>\n",
              "      <th>1</th>\n",
              "      <td>7</td>\n",
              "      <td>3.939165</td>\n",
              "      <td>0.934826</td>\n",
              "      <td>0.098799</td>\n",
              "    </tr>\n",
              "    <tr>\n",
              "      <th>2</th>\n",
              "      <td>6</td>\n",
              "      <td>4.461070</td>\n",
              "      <td>1.001864</td>\n",
              "      <td>0.118668</td>\n",
              "    </tr>\n",
              "    <tr>\n",
              "      <th>3</th>\n",
              "      <td>4</td>\n",
              "      <td>4.523472</td>\n",
              "      <td>1.041675</td>\n",
              "      <td>0.124894</td>\n",
              "    </tr>\n",
              "    <tr>\n",
              "      <th>4</th>\n",
              "      <td>5</td>\n",
              "      <td>4.630366</td>\n",
              "      <td>1.061562</td>\n",
              "      <td>0.130265</td>\n",
              "    </tr>\n",
              "    <tr>\n",
              "      <th>5</th>\n",
              "      <td>1</td>\n",
              "      <td>4.824330</td>\n",
              "      <td>1.104231</td>\n",
              "      <td>0.136262</td>\n",
              "    </tr>\n",
              "    <tr>\n",
              "      <th>6</th>\n",
              "      <td>0</td>\n",
              "      <td>4.910399</td>\n",
              "      <td>1.207496</td>\n",
              "      <td>0.118037</td>\n",
              "    </tr>\n",
              "    <tr>\n",
              "      <th>7</th>\n",
              "      <td>3</td>\n",
              "      <td>5.143628</td>\n",
              "      <td>1.154568</td>\n",
              "      <td>0.134698</td>\n",
              "    </tr>\n",
              "  </tbody>\n",
              "</table>\n",
              "</div>\n",
              "    <div class=\"colab-df-buttons\">\n",
              "\n",
              "  <div class=\"colab-df-container\">\n",
              "    <button class=\"colab-df-convert\" onclick=\"convertToInteractive('df-7b011c7d-1189-4f06-9f90-5de967ca88f4')\"\n",
              "            title=\"Convert this dataframe to an interactive table.\"\n",
              "            style=\"display:none;\">\n",
              "\n",
              "  <svg xmlns=\"http://www.w3.org/2000/svg\" height=\"24px\" viewBox=\"0 -960 960 960\">\n",
              "    <path d=\"M120-120v-720h720v720H120Zm60-500h600v-160H180v160Zm220 220h160v-160H400v160Zm0 220h160v-160H400v160ZM180-400h160v-160H180v160Zm440 0h160v-160H620v160ZM180-180h160v-160H180v160Zm440 0h160v-160H620v160Z\"/>\n",
              "  </svg>\n",
              "    </button>\n",
              "\n",
              "  <style>\n",
              "    .colab-df-container {\n",
              "      display:flex;\n",
              "      gap: 12px;\n",
              "    }\n",
              "\n",
              "    .colab-df-convert {\n",
              "      background-color: #E8F0FE;\n",
              "      border: none;\n",
              "      border-radius: 50%;\n",
              "      cursor: pointer;\n",
              "      display: none;\n",
              "      fill: #1967D2;\n",
              "      height: 32px;\n",
              "      padding: 0 0 0 0;\n",
              "      width: 32px;\n",
              "    }\n",
              "\n",
              "    .colab-df-convert:hover {\n",
              "      background-color: #E2EBFA;\n",
              "      box-shadow: 0px 1px 2px rgba(60, 64, 67, 0.3), 0px 1px 3px 1px rgba(60, 64, 67, 0.15);\n",
              "      fill: #174EA6;\n",
              "    }\n",
              "\n",
              "    .colab-df-buttons div {\n",
              "      margin-bottom: 4px;\n",
              "    }\n",
              "\n",
              "    [theme=dark] .colab-df-convert {\n",
              "      background-color: #3B4455;\n",
              "      fill: #D2E3FC;\n",
              "    }\n",
              "\n",
              "    [theme=dark] .colab-df-convert:hover {\n",
              "      background-color: #434B5C;\n",
              "      box-shadow: 0px 1px 3px 1px rgba(0, 0, 0, 0.15);\n",
              "      filter: drop-shadow(0px 1px 2px rgba(0, 0, 0, 0.3));\n",
              "      fill: #FFFFFF;\n",
              "    }\n",
              "  </style>\n",
              "\n",
              "    <script>\n",
              "      const buttonEl =\n",
              "        document.querySelector('#df-7b011c7d-1189-4f06-9f90-5de967ca88f4 button.colab-df-convert');\n",
              "      buttonEl.style.display =\n",
              "        google.colab.kernel.accessAllowed ? 'block' : 'none';\n",
              "\n",
              "      async function convertToInteractive(key) {\n",
              "        const element = document.querySelector('#df-7b011c7d-1189-4f06-9f90-5de967ca88f4');\n",
              "        const dataTable =\n",
              "          await google.colab.kernel.invokeFunction('convertToInteractive',\n",
              "                                                    [key], {});\n",
              "        if (!dataTable) return;\n",
              "\n",
              "        const docLinkHtml = 'Like what you see? Visit the ' +\n",
              "          '<a target=\"_blank\" href=https://colab.research.google.com/notebooks/data_table.ipynb>data table notebook</a>'\n",
              "          + ' to learn more about interactive tables.';\n",
              "        element.innerHTML = '';\n",
              "        dataTable['output_type'] = 'display_data';\n",
              "        await google.colab.output.renderOutput(dataTable, element);\n",
              "        const docLink = document.createElement('div');\n",
              "        docLink.innerHTML = docLinkHtml;\n",
              "        element.appendChild(docLink);\n",
              "      }\n",
              "    </script>\n",
              "  </div>\n",
              "\n",
              "\n",
              "    <div id=\"df-91b193d3-f40b-489e-9ae2-dba772cd2765\">\n",
              "      <button class=\"colab-df-quickchart\" onclick=\"quickchart('df-91b193d3-f40b-489e-9ae2-dba772cd2765')\"\n",
              "                title=\"Suggest charts\"\n",
              "                style=\"display:none;\">\n",
              "\n",
              "<svg xmlns=\"http://www.w3.org/2000/svg\" height=\"24px\"viewBox=\"0 0 24 24\"\n",
              "     width=\"24px\">\n",
              "    <g>\n",
              "        <path d=\"M19 3H5c-1.1 0-2 .9-2 2v14c0 1.1.9 2 2 2h14c1.1 0 2-.9 2-2V5c0-1.1-.9-2-2-2zM9 17H7v-7h2v7zm4 0h-2V7h2v10zm4 0h-2v-4h2v4z\"/>\n",
              "    </g>\n",
              "</svg>\n",
              "      </button>\n",
              "\n",
              "<style>\n",
              "  .colab-df-quickchart {\n",
              "      --bg-color: #E8F0FE;\n",
              "      --fill-color: #1967D2;\n",
              "      --hover-bg-color: #E2EBFA;\n",
              "      --hover-fill-color: #174EA6;\n",
              "      --disabled-fill-color: #AAA;\n",
              "      --disabled-bg-color: #DDD;\n",
              "  }\n",
              "\n",
              "  [theme=dark] .colab-df-quickchart {\n",
              "      --bg-color: #3B4455;\n",
              "      --fill-color: #D2E3FC;\n",
              "      --hover-bg-color: #434B5C;\n",
              "      --hover-fill-color: #FFFFFF;\n",
              "      --disabled-bg-color: #3B4455;\n",
              "      --disabled-fill-color: #666;\n",
              "  }\n",
              "\n",
              "  .colab-df-quickchart {\n",
              "    background-color: var(--bg-color);\n",
              "    border: none;\n",
              "    border-radius: 50%;\n",
              "    cursor: pointer;\n",
              "    display: none;\n",
              "    fill: var(--fill-color);\n",
              "    height: 32px;\n",
              "    padding: 0;\n",
              "    width: 32px;\n",
              "  }\n",
              "\n",
              "  .colab-df-quickchart:hover {\n",
              "    background-color: var(--hover-bg-color);\n",
              "    box-shadow: 0 1px 2px rgba(60, 64, 67, 0.3), 0 1px 3px 1px rgba(60, 64, 67, 0.15);\n",
              "    fill: var(--button-hover-fill-color);\n",
              "  }\n",
              "\n",
              "  .colab-df-quickchart-complete:disabled,\n",
              "  .colab-df-quickchart-complete:disabled:hover {\n",
              "    background-color: var(--disabled-bg-color);\n",
              "    fill: var(--disabled-fill-color);\n",
              "    box-shadow: none;\n",
              "  }\n",
              "\n",
              "  .colab-df-spinner {\n",
              "    border: 2px solid var(--fill-color);\n",
              "    border-color: transparent;\n",
              "    border-bottom-color: var(--fill-color);\n",
              "    animation:\n",
              "      spin 1s steps(1) infinite;\n",
              "  }\n",
              "\n",
              "  @keyframes spin {\n",
              "    0% {\n",
              "      border-color: transparent;\n",
              "      border-bottom-color: var(--fill-color);\n",
              "      border-left-color: var(--fill-color);\n",
              "    }\n",
              "    20% {\n",
              "      border-color: transparent;\n",
              "      border-left-color: var(--fill-color);\n",
              "      border-top-color: var(--fill-color);\n",
              "    }\n",
              "    30% {\n",
              "      border-color: transparent;\n",
              "      border-left-color: var(--fill-color);\n",
              "      border-top-color: var(--fill-color);\n",
              "      border-right-color: var(--fill-color);\n",
              "    }\n",
              "    40% {\n",
              "      border-color: transparent;\n",
              "      border-right-color: var(--fill-color);\n",
              "      border-top-color: var(--fill-color);\n",
              "    }\n",
              "    60% {\n",
              "      border-color: transparent;\n",
              "      border-right-color: var(--fill-color);\n",
              "    }\n",
              "    80% {\n",
              "      border-color: transparent;\n",
              "      border-right-color: var(--fill-color);\n",
              "      border-bottom-color: var(--fill-color);\n",
              "    }\n",
              "    90% {\n",
              "      border-color: transparent;\n",
              "      border-bottom-color: var(--fill-color);\n",
              "    }\n",
              "  }\n",
              "</style>\n",
              "\n",
              "      <script>\n",
              "        async function quickchart(key) {\n",
              "          const quickchartButtonEl =\n",
              "            document.querySelector('#' + key + ' button');\n",
              "          quickchartButtonEl.disabled = true;  // To prevent multiple clicks.\n",
              "          quickchartButtonEl.classList.add('colab-df-spinner');\n",
              "          try {\n",
              "            const charts = await google.colab.kernel.invokeFunction(\n",
              "                'suggestCharts', [key], {});\n",
              "          } catch (error) {\n",
              "            console.error('Error during call to suggestCharts:', error);\n",
              "          }\n",
              "          quickchartButtonEl.classList.remove('colab-df-spinner');\n",
              "          quickchartButtonEl.classList.add('colab-df-quickchart-complete');\n",
              "        }\n",
              "        (() => {\n",
              "          let quickchartButtonEl =\n",
              "            document.querySelector('#df-91b193d3-f40b-489e-9ae2-dba772cd2765 button');\n",
              "          quickchartButtonEl.style.display =\n",
              "            google.colab.kernel.accessAllowed ? 'block' : 'none';\n",
              "        })();\n",
              "      </script>\n",
              "    </div>\n",
              "\n",
              "  <div id=\"id_faf20e48-3e51-454c-ab57-e38ab6951a2f\">\n",
              "    <style>\n",
              "      .colab-df-generate {\n",
              "        background-color: #E8F0FE;\n",
              "        border: none;\n",
              "        border-radius: 50%;\n",
              "        cursor: pointer;\n",
              "        display: none;\n",
              "        fill: #1967D2;\n",
              "        height: 32px;\n",
              "        padding: 0 0 0 0;\n",
              "        width: 32px;\n",
              "      }\n",
              "\n",
              "      .colab-df-generate:hover {\n",
              "        background-color: #E2EBFA;\n",
              "        box-shadow: 0px 1px 2px rgba(60, 64, 67, 0.3), 0px 1px 3px 1px rgba(60, 64, 67, 0.15);\n",
              "        fill: #174EA6;\n",
              "      }\n",
              "\n",
              "      [theme=dark] .colab-df-generate {\n",
              "        background-color: #3B4455;\n",
              "        fill: #D2E3FC;\n",
              "      }\n",
              "\n",
              "      [theme=dark] .colab-df-generate:hover {\n",
              "        background-color: #434B5C;\n",
              "        box-shadow: 0px 1px 3px 1px rgba(0, 0, 0, 0.15);\n",
              "        filter: drop-shadow(0px 1px 2px rgba(0, 0, 0, 0.3));\n",
              "        fill: #FFFFFF;\n",
              "      }\n",
              "    </style>\n",
              "    <button class=\"colab-df-generate\" onclick=\"generateWithVariable('scores_filter')\"\n",
              "            title=\"Generate code using this dataframe.\"\n",
              "            style=\"display:none;\">\n",
              "\n",
              "  <svg xmlns=\"http://www.w3.org/2000/svg\" height=\"24px\"viewBox=\"0 0 24 24\"\n",
              "       width=\"24px\">\n",
              "    <path d=\"M7,19H8.4L18.45,9,17,7.55,7,17.6ZM5,21V16.75L18.45,3.32a2,2,0,0,1,2.83,0l1.4,1.43a1.91,1.91,0,0,1,.58,1.4,1.91,1.91,0,0,1-.58,1.4L9.25,21ZM18.45,9,17,7.55Zm-12,3A5.31,5.31,0,0,0,4.9,8.1,5.31,5.31,0,0,0,1,6.5,5.31,5.31,0,0,0,4.9,4.9,5.31,5.31,0,0,0,6.5,1,5.31,5.31,0,0,0,8.1,4.9,5.31,5.31,0,0,0,12,6.5,5.46,5.46,0,0,0,6.5,12Z\"/>\n",
              "  </svg>\n",
              "    </button>\n",
              "    <script>\n",
              "      (() => {\n",
              "      const buttonEl =\n",
              "        document.querySelector('#id_faf20e48-3e51-454c-ab57-e38ab6951a2f button.colab-df-generate');\n",
              "      buttonEl.style.display =\n",
              "        google.colab.kernel.accessAllowed ? 'block' : 'none';\n",
              "\n",
              "      buttonEl.onclick = () => {\n",
              "        google.colab.notebook.generateWithVariable('scores_filter');\n",
              "      }\n",
              "      })();\n",
              "    </script>\n",
              "  </div>\n",
              "\n",
              "    </div>\n",
              "  </div>\n"
            ],
            "application/vnd.google.colaboratory.intrinsic+json": {
              "type": "dataframe",
              "variable_name": "scores_filter",
              "summary": "{\n  \"name\": \"scores_filter\",\n  \"rows\": 8,\n  \"fields\": [\n    {\n      \"column\": \"filter\",\n      \"properties\": {\n        \"dtype\": \"number\",\n        \"std\": 2,\n        \"min\": 0,\n        \"max\": 7,\n        \"num_unique_values\": 8,\n        \"samples\": [\n          7,\n          1,\n          2\n        ],\n        \"semantic_type\": \"\",\n        \"description\": \"\"\n      }\n    },\n    {\n      \"column\": \"L1\",\n      \"properties\": {\n        \"dtype\": \"number\",\n        \"std\": 0.6016764472139682,\n        \"min\": 3.2654809951782227,\n        \"max\": 5.143627643585205,\n        \"num_unique_values\": 8,\n        \"samples\": [\n          3.939164876937866,\n          4.824329853057861,\n          3.2654809951782227\n        ],\n        \"semantic_type\": \"\",\n        \"description\": \"\"\n      }\n    },\n    {\n      \"column\": \"L2\",\n      \"properties\": {\n        \"dtype\": \"number\",\n        \"std\": 0.13215540053093086,\n        \"min\": 0.7869079113006592,\n        \"max\": 1.2074956893920898,\n        \"num_unique_values\": 8,\n        \"samples\": [\n          0.9348256587982178,\n          1.1042311191558838,\n          0.7869079113006592\n        ],\n        \"semantic_type\": \"\",\n        \"description\": \"\"\n      }\n    },\n    {\n      \"column\": \"GeometricMeanAbs\",\n      \"properties\": {\n        \"dtype\": \"number\",\n        \"std\": 0.01935660044395969,\n        \"min\": 0.07999946177005768,\n        \"max\": 0.1362619549036026,\n        \"num_unique_values\": 8,\n        \"samples\": [\n          0.09879879653453827,\n          0.1362619549036026,\n          0.07999946177005768\n        ],\n        \"semantic_type\": \"\",\n        \"description\": \"\"\n      }\n    }\n  ]\n}"
            }
          },
          "metadata": {},
          "execution_count": 10
        }
      ]
    },
    {
      "cell_type": "markdown",
      "source": [
        "## 4) Visual check — per-filter bars\n",
        "\n",
        "Bar charts help spot consistently **small** filters across criteria.  \n",
        "Lower bar ⇒ stronger prune candidate."
      ],
      "metadata": {
        "id": "6CB975VXezut"
      }
    },
    {
      "cell_type": "code",
      "source": [
        "labels = [f\"F{i}\" for i in range(F)]\n",
        "scores_idx = scores_filter.set_index(\"filter\").reindex(range(F))\n",
        "\n",
        "L1_vals = scores_idx[\"L1\"].values\n",
        "L2_vals = scores_idx[\"L2\"].values\n",
        "GM_vals = scores_idx[\"GeometricMeanAbs\"].values\n",
        "\n",
        "plt.figure(figsize=(9,4))\n",
        "plt.bar(labels, L1_vals)\n",
        "plt.title(\"Per-filter L1 (lower → prune first)\")\n",
        "plt.ylabel(\"|W|_1\")\n",
        "plt.tight_layout()\n",
        "plt.show()\n",
        "\n",
        "plt.figure(figsize=(9,4))\n",
        "plt.bar(labels, L2_vals)\n",
        "plt.title(\"Per-filter L2 (lower → prune first)\")\n",
        "plt.ylabel(\"||W||_2\")\n",
        "plt.tight_layout()\n",
        "plt.show()\n",
        "\n",
        "plt.figure(figsize=(9,4))\n",
        "plt.bar(labels, GM_vals)\n",
        "plt.title(\"Per-filter Geometric Mean of |W| (lower → prune first)\")\n",
        "plt.ylabel(\"geomean(|W|)\")\n",
        "plt.tight_layout()\n",
        "plt.show()"
      ],
      "metadata": {
        "colab": {
          "base_uri": "https://localhost:8080/",
          "height": 1000
        },
        "id": "TyWlsrSne9O8",
        "outputId": "5d002e2f-d62e-4361-c467-7cb927917f4f"
      },
      "execution_count": null,
      "outputs": [
        {
          "output_type": "display_data",
          "data": {
            "text/plain": [
              "<Figure size 900x400 with 1 Axes>"
            ],
            "image/png": "[encoded data removed]"
          },
          "metadata": {}
        },
        {
          "output_type": "display_data",
          "data": {
            "text/plain": [
              "<Figure size 900x400 with 1 Axes>"
            ],
            "image/png": "[encoded data removed]"
          },
          "metadata": {}
        },
        {
          "output_type": "display_data",
          "data": {
            "text/plain": [
              "<Figure size 900x400 with 1 Axes>"
            ],
            "image/png": "[encoded data removed]"
          },
          "metadata": {}
        }
      ]
    },
    {
      "cell_type": "markdown",
      "source": [
        "## 5) Select & prune filters (structured)\n",
        "\n",
        "Prune the **lowest p%** filters by **L1** (you can switch to L2/Geomean).  \n",
        "Structured pruning removes **whole filters** (output channels) ⇒ shapes shrink."
      ],
      "metadata": {
        "id": "JnyaqgUie2bX"
      }
    },
    {
      "cell_type": "code",
      "source": [
        "K = max(1, int(PRUNE_FRAC * F))       # how many filters to remove\n",
        "order_l1 = np.argsort(L1_vals)        # ascending by L1\n",
        "to_prune_filters = order_l1[:K]\n",
        "to_keep_filters  = np.setdiff1d(np.arange(F), to_prune_filters)\n",
        "\n",
        "W_pruned_filters = W[to_keep_filters, :, :, :]\n",
        "\n",
        "print(\"Criterion:\", \"L1 per filter\")\n",
        "print(\"Original W shape:\", W.shape)\n",
        "print(\"Pruned   W shape:\", W_pruned_filters.shape)\n",
        "print(\"Pruned filter indices:\", to_prune_filters)"
      ],
      "metadata": {
        "colab": {
          "base_uri": "https://localhost:8080/"
        },
        "id": "wZezQRk9fB-k",
        "outputId": "1457d320-3d01-4952-f79e-68335e8fdb3c"
      },
      "execution_count": null,
      "outputs": [
        {
          "output_type": "stream",
          "name": "stdout",
          "text": [
            "Criterion: L1 per filter\n",
            "Original W shape: (8, 3, 3, 3)\n",
            "Pruned   W shape: (6, 3, 3, 3)\n",
            "Pruned filter indices: [2 7]\n"
          ]
        }
      ]
    },
    {
      "cell_type": "markdown",
      "source": [
        "## 6) Per-channel scores (structured at input-channel level)\n",
        "\n",
        "Sometimes we keep the number of **filters**, but prune **input channels**.  \n",
        "We score each block `(filter, input_channel)` (here with **L1**) and prune the lowest p% **per filter**."
      ],
      "metadata": {
        "id": "VHTBZ26He5Vn"
      }
    },
    {
      "cell_type": "code",
      "source": [
        "L1_fc = np.zeros((F, Cin), dtype=np.float64)\n",
        "for f in range(F):\n",
        "    for c in range(Cin):\n",
        "        L1_fc[f, c] = l1_score(W[f, c])\n",
        "\n",
        "Kc = max(1, int(PRUNE_FRAC_CHANNEL * Cin))\n",
        "\n",
        "keep_channels = []\n",
        "pruned_channels = {}\n",
        "\n",
        "for f in range(F):\n",
        "    order = np.argsort(L1_fc[f])     # smallest first\n",
        "    prune_c = order[:Kc]\n",
        "    keep_c  = np.setdiff1d(np.arange(Cin), prune_c)\n",
        "    pruned_channels[f] = prune_c\n",
        "    keep_channels.append(keep_c)\n",
        "\n",
        "# Ragged results: different #channels kept per filter\n",
        "pruned_by_channel = [W[f, keep_channels[f], :, :] for f in range(F)]\n",
        "shapes_after = [arr.shape for arr in pruned_by_channel]\n",
        "\n",
        "print(\"Per-(filter, channel) L1 shape:\", L1_fc.shape)\n",
        "print(\"Example L1 scores for F0:\", np.round(L1_fc[0], 6))\n",
        "print(\"Channels pruned per filter:\", pruned_channels)\n",
        "print(\"Resulting shapes per filter (ragged):\", shapes_after[:3], \"...\")"
      ],
      "metadata": {
        "colab": {
          "base_uri": "https://localhost:8080/"
        },
        "id": "sEJPVbFnfHJK",
        "outputId": "5347966d-8c00-402e-b4c7-a5cbe00c38e0"
      },
      "execution_count": null,
      "outputs": [
        {
          "output_type": "stream",
          "name": "stdout",
          "text": [
            "Per-(filter, channel) L1 shape: (8, 3)\n",
            "Example L1 scores for F0: [0.991007 0.420659 0.668183]\n",
            "Channels pruned per filter: {0: array([1]), 1: array([0]), 2: array([0]), 3: array([1]), 4: array([1]), 5: array([0]), 6: array([1]), 7: array([2])}\n",
            "Resulting shapes per filter (ragged): [(2, 3, 3), (2, 3, 3), (2, 3, 3)] ...\n"
          ]
        }
      ]
    },
    {
      "cell_type": "markdown",
      "source": [
        "## 7) FLOPs proxy & expected speedup (filters-only)\n",
        "\n",
        "Rough rule for conv compute (ignoring spatial terms):  \n",
        "`FLOPs ∝ F_out × C_in × K_h × K_w`.\n",
        "\n",
        "Pruning **filters** lowers `F_out` ⇒ fewer operations.  \n",
        "We estimate a before/after ratio and an approximate speedup."
      ],
      "metadata": {
        "id": "50uFvsHJfO_x"
      }
    },
    {
      "cell_type": "code",
      "source": [
        "F_after = W_pruned_filters.shape[0]\n",
        "Cin_after = Cin  # channel demo above is illustrative; we keep Cin fixed here\n",
        "\n",
        "flops_before = F * Cin * Kh * Kw\n",
        "flops_after  = F_after * Cin_after * Kh * Kw\n",
        "ratio = flops_after / flops_before\n",
        "speedup = (1.0 / ratio) if ratio > 0 else float(\"inf\")\n",
        "\n",
        "print(f\"FLOPs proxy — before: {flops_before}, after: {flops_after}, ratio: {ratio:.2f}\")\n",
        "print(f\"Approximate speedup (filters-only): {speedup:.2f}×\")"
      ],
      "metadata": {
        "colab": {
          "base_uri": "https://localhost:8080/"
        },
        "id": "V8nioAGjfP0G",
        "outputId": "a0f1a554-8973-4999-d1cf-dcd9ea92632c"
      },
      "execution_count": null,
      "outputs": [
        {
          "output_type": "stream",
          "name": "stdout",
          "text": [
            "FLOPs proxy — before: 216, after: 162, ratio: 0.75\n",
            "Approximate speedup (filters-only): 1.33×\n"
          ]
        }
      ]
    },
    {
      "cell_type": "markdown",
      "source": [
        "## 8) Optional — Fine-tuning after pruning\n",
        "\n",
        "After structured pruning, we usually run a short **fine-tune** to recover accuracy:\n",
        "- Freeze most layers; train only the **last layer** (or use **PEFT/LoRA**).\n",
        "- Small LR (e.g., 5e-4), **1–2 epochs** on a **small subset**.\n",
        "- Show precomputed “before/after” metrics rather than running live.\n",
        "\n",
        "**Takeaway:** pruning gives the **efficiency**; a brief fine-tune **recovers most accuracy**."
      ],
      "metadata": {
        "id": "d53WsM-3fSrS"
      }
    },
    {
      "cell_type": "markdown",
      "source": [
        "## 9) Explore\n",
        "\n",
        "- Change `PRUNE_FRAC` or `PRUNE_FRAC_CHANNEL` and re-run to see new prune sets.  \n",
        "- Swap the criterion for pruning (L2 or Geomean).  \n",
        "- Remember: **structured pruning** (filters/channels) reduces **shapes**, which is what enables **immediate compute/latency** gains."
      ],
      "metadata": {
        "id": "92p5PWEvfX61"
      }
    }
  ]
}