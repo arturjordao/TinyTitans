{
  "nbformat": 4,
  "nbformat_minor": 0,
  "metadata": {
    "colab": {
      "provenance": [],
      "gpuType": "T4"
    },
    "kernelspec": {
      "name": "python3",
      "display_name": "Python 3"
    },
    "language_info": {
      "name": "python"
    },
    "accelerator": "GPU"
  },
  "cells": [
    {
      "cell_type": "markdown",
      "source": [
        "#Pruning Computer Vision Models\n",
        "\n",
        "This environment is destinated to explpore more the Wold of Pruning Computer Vision Models"
      ],
      "metadata": {
        "id": "NcuRHYl1Nt5t"
      }
    },
    {
      "cell_type": "code",
      "source": [
        "%reset -f"
      ],
      "metadata": {
        "id": "bfmikX0YLsZY"
      },
      "execution_count": null,
      "outputs": []
    },
    {
      "cell_type": "markdown",
      "source": [
        "Firstly, it is necessary to install the dependencies of the Hands-on."
      ],
      "metadata": {
        "id": "c6wVzmdpOjS0"
      }
    },
    {
      "cell_type": "code",
      "execution_count": null,
      "metadata": {
        "id": "ACYjHj9pCZEa"
      },
      "outputs": [],
      "source": [
        "%%bash\n",
        "set -euo pipefail\n",
        "pip uninstall -y -q keras || true\n",
        "pip install -q \"tensorflow==2.19.0\" \"tf-keras==2.19.0\" \"numpy==1.26.4\" \"scikit-learn==1.3.2\" \"h5py==3.14.0\"\n"
      ]
    },
    {
      "cell_type": "markdown",
      "source": [
        "All the code is available on our Github repository, to run at the Google Colab it is necessary only to clone it."
      ],
      "metadata": {
        "id": "0fxplmHtOky5"
      }
    },
    {
      "cell_type": "code",
      "source": [
        "%%bash\n",
        "rm -rf /content/teste_tutorial_colab\n",
        "git clone -q https://github.com/arturjordao/TinyTitans /content/teste_tutorial_colab"
      ],
      "metadata": {
        "id": "4QR-P3tgCte4"
      },
      "execution_count": null,
      "outputs": []
    },
    {
      "cell_type": "markdown",
      "source": [
        "This notebook is destinated to prune models trained on CIFAR10"
      ],
      "metadata": {
        "id": "CGm-_4ulO8B-"
      }
    },
    {
      "cell_type": "code",
      "source": [
        "import os, sys\n",
        "os.environ[\"TF_USE_LEGACY_KERAS\"] = \"1\"\n",
        "sys.path.append(\"/content/teste_tutorial_colab/pruning_vision_models\")\n",
        "\n",
        "from cifar import tutorial"
      ],
      "metadata": {
        "colab": {
          "base_uri": "https://localhost:8080/"
        },
        "id": "JLQg1Lh1Cw24",
        "outputId": "eb57f832-2b2e-4794-b668-65b70e7964cd"
      },
      "execution_count": null,
      "outputs": [
        {
          "output_type": "stream",
          "name": "stdout",
          "text": [
            "Real Mode\n",
            "Downloading data from https://www.cs.toronto.edu/~kriz/cifar-10-python.tar.gz\n",
            "\u001b[1m170498071/170498071\u001b[0m \u001b[32m━━━━━━━━━━━━━━━━━━━━\u001b[0m\u001b[37m\u001b[0m \u001b[1m5s\u001b[0m 0us/step\n"
          ]
        }
      ]
    },
    {
      "cell_type": "markdown",
      "source": [
        "Inside of our repository is available the following models: **ResNet32, ResNet44, ResNet56 and ResNet110**"
      ],
      "metadata": {
        "id": "mLcNdywoPTe2"
      }
    },
    {
      "cell_type": "code",
      "source": [
        "tutorial.architecture_name = 'ResNet110'"
      ],
      "metadata": {
        "id": "mHESvOjCEvCB"
      },
      "execution_count": null,
      "outputs": []
    },
    {
      "cell_type": "code",
      "source": [
        "model = tutorial.func.load_model('/content/teste_tutorial_colab/pruning_vision_models/cifar/{}'.format(tutorial.architecture_name),\n",
        "                            '/content/teste_tutorial_colab/pruning_vision_models/cifar/{}++'.format(tutorial.architecture_name))"
      ],
      "metadata": {
        "colab": {
          "base_uri": "https://localhost:8080/"
        },
        "id": "JW0v8CwyDk7w",
        "outputId": "6e19d709-886d-4ba8-b9fd-a564d4ed69f8"
      },
      "execution_count": null,
      "outputs": [
        {
          "output_type": "stream",
          "name": "stdout",
          "text": [
            "Load architecture [/content/teste_tutorial_colab/pruning_vision_models/cifar/ResNet110.json]. Load weights [/content/teste_tutorial_colab/pruning_vision_models/cifar/ResNet110++.h5]\n"
          ]
        }
      ]
    },
    {
      "cell_type": "markdown",
      "source": [
        "##Let's see the statistics of the model!"
      ],
      "metadata": {
        "id": "4CrXm8r8P97n"
      }
    },
    {
      "cell_type": "code",
      "source": [
        "tutorial.statistics(model)"
      ],
      "metadata": {
        "colab": {
          "base_uri": "https://localhost:8080/"
        },
        "id": "wcWSikeME-_B",
        "outputId": "0f32c530-aa8a-4011-c603-045f25b7bf25"
      },
      "execution_count": null,
      "outputs": [
        {
          "output_type": "stream",
          "name": "stdout",
          "text": [
            "Accuracy [0.9291] Blocks [18, 18, 18] Number of Parameters [1742762] Number of Filters [4144] FLOPS [253149824] Memory [0.020180]\n"
          ]
        }
      ]
    },
    {
      "cell_type": "markdown",
      "source": [
        "##Allowed Filter Pruning Criteria\n",
        "In this framework, the allowed criteria for filter pruning are: **random, L1, rank, expectedABS.**\n",
        "\n",
        "##Allowed Layer Pruning Criteria\n",
        "In this framework, the allowed criteria for layer pruning are: **random, L1, klDivergence, expectedABS (too long to run on this environment), CKA.**"
      ],
      "metadata": {
        "id": "e0oYDIzBKhCN"
      }
    },
    {
      "cell_type": "code",
      "source": [
        "p_filter = 0.1\n",
        "p_layer = 1\n",
        "criteria_filter = 'random'\n",
        "criteria_layer = 'random'"
      ],
      "metadata": {
        "id": "3LgpVN_fF9yo"
      },
      "execution_count": null,
      "outputs": []
    },
    {
      "cell_type": "code",
      "source": [
        "pruned_model_filter = tutorial.pruneByFilter(model, criteria_filter, p_filter)\n",
        "tutorial.statistics(pruned_model_filter)"
      ],
      "metadata": {
        "colab": {
          "base_uri": "https://localhost:8080/"
        },
        "id": "gN9ZLScCFEtm",
        "outputId": "e15d2047-afbb-4b34-920e-f2d3dd4e1862"
      },
      "execution_count": null,
      "outputs": [
        {
          "output_type": "stream",
          "name": "stdout",
          "text": [
            "Accuracy [0.4091] Blocks [18, 18, 18] Number of Parameters [1431092] Number of Filters [3730] FLOPS [190481024] Memory [0.017313]\n"
          ]
        }
      ]
    },
    {
      "cell_type": "code",
      "source": [
        "pruned_model_layer = tutorial.pruneByLayer(model, criteria_layer, p_layer)\n",
        "tutorial.statistics(pruned_model_layer)"
      ],
      "metadata": {
        "id": "FAcKJi9AF0Mk",
        "colab": {
          "base_uri": "https://localhost:8080/"
        },
        "outputId": "195e651e-5835-47a9-cf70-9f453cc46344"
      },
      "execution_count": null,
      "outputs": [
        {
          "output_type": "stream",
          "name": "stdout",
          "text": [
            "Accuracy [0.922] Blocks [17, 18, 18] Number of Parameters [1737994] Number of Filters [4112] FLOPS [248431232] Memory [0.019735]\n"
          ]
        }
      ]
    },
    {
      "cell_type": "markdown",
      "source": [
        "Now, let's build some pruning code!"
      ],
      "metadata": {
        "id": "dj0lUhGDWz1A"
      }
    }
  ]
}